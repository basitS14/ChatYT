{
 "cells": [
  {
   "cell_type": "markdown",
   "id": "9e853eda",
   "metadata": {},
   "source": [
    "### Get Transcript"
   ]
  },
  {
   "cell_type": "code",
   "execution_count": 1,
   "id": "45d61451",
   "metadata": {},
   "outputs": [],
   "source": [
    "from langchain_text_splitters import RecursiveCharacterTextSplitter\n"
   ]
  },
  {
   "cell_type": "code",
   "execution_count": 2,
   "id": "1b55ef81",
   "metadata": {},
   "outputs": [],
   "source": [
    "from youtube_transcript_api import YouTubeTranscriptApi , TranscriptsDisabled\n",
    "\n",
    "try:\n",
    "    video_length = 0\n",
    "    video_id=\"Usr8ODIDU-g&t=54s\"\n",
    "    ytt_api = YouTubeTranscriptApi()\n",
    "    res = ytt_api.fetch(video_id)\n",
    "    transcript = \" \".join([snippet.text for snippet in res])\n",
    "except TranscriptsDisabled:\n",
    "    print(\"Transcripts for this video are disabled by the creator\")"
   ]
  },
  {
   "cell_type": "code",
   "execution_count": 3,
   "id": "3dee608f",
   "metadata": {},
   "outputs": [
    {
     "name": "stdout",
     "output_type": "stream",
     "text": [
      "0\n",
      "is there a case to be made that brothers karamazov is the greatest book ever written yeah there's a case to be made for that i don't know is it better than crime and punishment yes yeah you think so why do you i'm not arguing with it why do you think that uh well this is every every book is a person some of my best friends are inside that book yeah it's an amazing book and there's no doubt about it uh i think it's some books are defined by your personal relationship with them and that one was definitive and i almost graduated to that one because for the longest time the idiot was my favorite book uh of all because i identified with the ideas represented by prince michigan i also identified oh that's interesting to prince michigan as a as a human being holy fool the fool because the world kind of my whole life still kind of sees me saw me in my perception my narrow perception is kind of the fool and i different from the interpretation that a lot of people take of this book i see him as a kind of hero to be oh definitely to be a naive uh quote-unquote fool but really just a naive optimist and naive in the best possible way i i do believe that childlike yeah childlike is a butter so naive is usually seen as that's childish naive yeah but child like that's why no one enters the kingdom of heaven unless they become like a child that's prince mishkin dostoevsky knew that so that's why you like the idiot that's so interesting see i think i like crime and punishment because you while you identified with michigan i think i identified more with raskolnikov because i was tempted by a luciferian intellect you know in in in the manner that in a in a manner very similar to the manner he was tempted but i mean i think i think you can make a case that the brothers chromosome is dostoevsky's crowning achievement wow and that's something man all right he ruined literature for me because everything else just felt insipid afterwards not everything not everything i i found some books that in my experience hit that pinnacle um the master in margarita that's a deadly book i've read that i think four times and i still there's still it's unbelievably deep uh there's a nikos kazansicus a greek writer some of his books are his writing is amazing as well did you ever connect with the literary like existentialist camus uh or or people like carmen hesse or um or even kafka did you ever connect with those to the same degree yeah to the same enough to be an influence you know you have to be deaf in some fundamental sense not to encounter a great dead friend and fail to learn no and and i mean i tried to separate the wheat from the chaff when i read you know and i read all the great clinicians all of them perhaps not those who are foremost in the pantheon and i tried to pull out what i could and that was a lot i learned a lot from freud i learned a lot from rogers and i learned a lot from well from dostoevsky and nietzsche i'm going to do a course on dostoevsky and nietzsche for this peterson academy this is coming up in january oh that'll be damn i'm really looking forward to it you're weaving i mean i hadn't thought about doing them together oh that'd be fun that's a good idea well the other good idea uh there's a you feel that idea you often weave them together really masterfully because there is a there is religious in the broad sense of that word themes throughout the writing of both yeah there is uncanny parallelisms in their writing and their lives so um and dostoevsky's deeper than nietzsche but that's because he was a writer of fiction nietzsche is almost a character in a dusty yes he is definitely that he is definitely that yes and apparently nietzsche knew more about dostoevsky than people had thought there's been some recent scholarship on that grounds dostoevsky didn't know anything about nietzsche as far as i know i could be wrong about that but the thing that dostoevsky had over nietzsche is nietzsche had to make things propositional in some real sense because he was a philosopher and it's hard to propositionalize things that are outside your can but you can characterize them and so in the brothers karamazov ivan is a more developed character than alyosha in in in the explicit sense he can make better arguments but elosha wins like michigan because he's the better man and dostoevsky can show that in the actions rather he can't render it entirely propositional but that's probably because what's good can't be rendered entirely propositional and so dostoevsky had that edge over nietzsche i said well ivan is this brilliant rationalist atheist materialist and puts forward an argument on that front that's still unparalleled as far as i'm concerned and overwhelms eliot who cannot respond but eliot is still the better man so which is very interesting you know that what you know the funny thing about those two characters is you jordan peterson seem to be somebody that at least embodies both because you are one of the intellectuals of our time rigorous in thought but also are able to have that kind of what would you describe if you if you remove the religiosity of aryosha there's a what's a good word love towards the world spirit of encouragement yes well it's it's you know one of the things i did learn perhaps from looking into the abyss to the degree that i have had to or was willing to was that at some level you have to make a fundamental statement of faith when god creates the world after each day he says he saw that it was good you think well is it good it's like well there's a tough question you know do you want to bring a child into a world such as this which is a fundamental question of whether or not it's good it's an act of faith to declare that it's good because the evidence is ambivalent and so then you think okay well am i going to act as if it's good and what would happen if i did and maybe the answer to that is i think this is the answer the more you act out the proposition that it's good the better it gets and so that's dostoyevsky said this is something else every man is not only responsible for everything he does but for everything everyone else does it's like what is that profound or are you just insane then you think is what you receive back proportionate to what you deliver and the answer to that might be yes that's a terrifying idea man and it certainly you can see that it's true in some sense because people certainly respond to you in kind with how you treat them that's certainly the case i mean it's it's terrifying and it's exciting yeah right that's an adventure isn't it you uh uh yeah you create the world by the way you live it the the world you experience is is defined by the way you live that world that's really that's really interesting and then taken as a collective we create the world together in that way you\n"
     ]
    }
   ],
   "source": [
    "print(video_length)\n",
    "print(transcript)"
   ]
  },
  {
   "cell_type": "markdown",
   "id": "32f670ba",
   "metadata": {},
   "source": [
    "### Create Chunks"
   ]
  },
  {
   "cell_type": "code",
   "execution_count": 4,
   "id": "52565bf3",
   "metadata": {},
   "outputs": [],
   "source": [
    "num_words = len(transcript.split(\" \"))\n",
    "if num_words >= 5000:\n",
    "    splitter = RecursiveCharacterTextSplitter(chunk_size=1000 , chunk_overlap = 200)\n",
    "else:\n",
    "    splitter = RecursiveCharacterTextSplitter(chunk_size=300 , chunk_overlap = 20)\n"
   ]
  },
  {
   "cell_type": "code",
   "execution_count": 5,
   "id": "6ceacca4",
   "metadata": {},
   "outputs": [],
   "source": [
    "chunks = splitter.create_documents([transcript])"
   ]
  },
  {
   "cell_type": "code",
   "execution_count": 6,
   "id": "98a99be1",
   "metadata": {},
   "outputs": [
    {
     "data": {
      "text/plain": [
       "25"
      ]
     },
     "execution_count": 6,
     "metadata": {},
     "output_type": "execute_result"
    }
   ],
   "source": [
    "len(chunks)"
   ]
  },
  {
   "cell_type": "code",
   "execution_count": 7,
   "id": "37224923",
   "metadata": {},
   "outputs": [
    {
     "name": "stdout",
     "output_type": "stream",
     "text": [
      "[Document(metadata={}, page_content=\"is there a case to be made that brothers karamazov is the greatest book ever written yeah there's a case to be made for that i don't know is it better than crime and punishment yes yeah you think so why do you i'm not arguing with it why do you think that uh well this is every every book is a person\"), Document(metadata={}, page_content=\"book is a person some of my best friends are inside that book yeah it's an amazing book and there's no doubt about it uh i think it's some books are defined by your personal relationship with them and that one was definitive and i almost graduated to that one because for the longest time the idiot\"), Document(metadata={}, page_content=\"time the idiot was my favorite book uh of all because i identified with the ideas represented by prince michigan i also identified oh that's interesting to prince michigan as a as a human being holy fool the fool because the world kind of my whole life still kind of sees me saw me in my perception\"), Document(metadata={}, page_content='me in my perception my narrow perception is kind of the fool and i different from the interpretation that a lot of people take of this book i see him as a kind of hero to be oh definitely to be a naive uh quote-unquote fool but really just a naive optimist and naive in the best possible way i i do'), Document(metadata={}, page_content=\"possible way i i do believe that childlike yeah childlike is a butter so naive is usually seen as that's childish naive yeah but child like that's why no one enters the kingdom of heaven unless they become like a child that's prince mishkin dostoevsky knew that so that's why you like the idiot\"), Document(metadata={}, page_content=\"you like the idiot that's so interesting see i think i like crime and punishment because you while you identified with michigan i think i identified more with raskolnikov because i was tempted by a luciferian intellect you know in in in the manner that in a in a manner very similar to the manner he\"), Document(metadata={}, page_content=\"to the manner he was tempted but i mean i think i think you can make a case that the brothers chromosome is dostoevsky's crowning achievement wow and that's something man all right he ruined literature for me because everything else just felt insipid afterwards not everything not everything i i\"), Document(metadata={}, page_content=\"not everything i i found some books that in my experience hit that pinnacle um the master in margarita that's a deadly book i've read that i think four times and i still there's still it's unbelievably deep uh there's a nikos kazansicus a greek writer some of his books are his writing is amazing as\"), Document(metadata={}, page_content='is amazing as well did you ever connect with the literary like existentialist camus uh or or people like carmen hesse or um or even kafka did you ever connect with those to the same degree yeah to the same enough to be an influence you know you have to be deaf in some fundamental sense not to'), Document(metadata={}, page_content='sense not to encounter a great dead friend and fail to learn no and and i mean i tried to separate the wheat from the chaff when i read you know and i read all the great clinicians all of them perhaps not those who are foremost in the pantheon and i tried to pull out what i could and that was a lot'), Document(metadata={}, page_content=\"and that was a lot i learned a lot from freud i learned a lot from rogers and i learned a lot from well from dostoevsky and nietzsche i'm going to do a course on dostoevsky and nietzsche for this peterson academy this is coming up in january oh that'll be damn i'm really looking forward to it\"), Document(metadata={}, page_content=\"forward to it you're weaving i mean i hadn't thought about doing them together oh that'd be fun that's a good idea well the other good idea uh there's a you feel that idea you often weave them together really masterfully because there is a there is religious in the broad sense of that word themes\"), Document(metadata={}, page_content=\"of that word themes throughout the writing of both yeah there is uncanny parallelisms in their writing and their lives so um and dostoevsky's deeper than nietzsche but that's because he was a writer of fiction nietzsche is almost a character in a dusty yes he is definitely that he is definitely\"), Document(metadata={}, page_content=\"he is definitely that yes and apparently nietzsche knew more about dostoevsky than people had thought there's been some recent scholarship on that grounds dostoevsky didn't know anything about nietzsche as far as i know i could be wrong about that but the thing that dostoevsky had over nietzsche is\"), Document(metadata={}, page_content=\"over nietzsche is nietzsche had to make things propositional in some real sense because he was a philosopher and it's hard to propositionalize things that are outside your can but you can characterize them and so in the brothers karamazov ivan is a more developed character than alyosha in in in the\"), Document(metadata={}, page_content=\"in in in the explicit sense he can make better arguments but elosha wins like michigan because he's the better man and dostoevsky can show that in the actions rather he can't render it entirely propositional but that's probably because what's good can't be rendered entirely propositional and so\"), Document(metadata={}, page_content=\"and so dostoevsky had that edge over nietzsche i said well ivan is this brilliant rationalist atheist materialist and puts forward an argument on that front that's still unparalleled as far as i'm concerned and overwhelms eliot who cannot respond but eliot is still the better man so which is very\"), Document(metadata={}, page_content='so which is very interesting you know that what you know the funny thing about those two characters is you jordan peterson seem to be somebody that at least embodies both because you are one of the intellectuals of our time rigorous in thought but also are able to have that kind of what would you'), Document(metadata={}, page_content=\"of what would you describe if you if you remove the religiosity of aryosha there's a what's a good word love towards the world spirit of encouragement yes well it's it's you know one of the things i did learn perhaps from looking into the abyss to the degree that i have had to or was willing to was\"), Document(metadata={}, page_content=\"was willing to was that at some level you have to make a fundamental statement of faith when god creates the world after each day he says he saw that it was good you think well is it good it's like well there's a tough question you know do you want to bring a child into a world such as this which\"), Document(metadata={}, page_content=\"such as this which is a fundamental question of whether or not it's good it's an act of faith to declare that it's good because the evidence is ambivalent and so then you think okay well am i going to act as if it's good and what would happen if i did and maybe the answer to that is i think this is\"), Document(metadata={}, page_content=\"is i think this is the answer the more you act out the proposition that it's good the better it gets and so that's dostoyevsky said this is something else every man is not only responsible for everything he does but for everything everyone else does it's like what is that profound or are you just\"), Document(metadata={}, page_content=\"or are you just insane then you think is what you receive back proportionate to what you deliver and the answer to that might be yes that's a terrifying idea man and it certainly you can see that it's true in some sense because people certainly respond to you in kind with how you treat them that's\"), Document(metadata={}, page_content=\"treat them that's certainly the case i mean it's it's terrifying and it's exciting yeah right that's an adventure isn't it you uh uh yeah you create the world by the way you live it the the world you experience is is defined by the way you live that world that's really that's really interesting and\"), Document(metadata={}, page_content='interesting and then taken as a collective we create the world together in that way you')]\n"
     ]
    }
   ],
   "source": [
    "print(chunks)"
   ]
  },
  {
   "cell_type": "markdown",
   "id": "4ae0fed8",
   "metadata": {},
   "source": [
    "### Storing in Vector Store"
   ]
  },
  {
   "cell_type": "code",
   "execution_count": 16,
   "id": "3c9cb15f",
   "metadata": {},
   "outputs": [],
   "source": [
    "from langchain_ollama import OllamaEmbeddings\n",
    "from langchain_community.vectorstores import FAISS\n",
    "from langchain_ollama import  OllamaLLM , ChatOllama\n",
    "from langchain_core.prompts import PromptTemplate"
   ]
  },
  {
   "cell_type": "code",
   "execution_count": 9,
   "id": "8b6225da",
   "metadata": {},
   "outputs": [],
   "source": [
    "embedd_model = OllamaEmbeddings(model=\"llama3.2:latest\")"
   ]
  },
  {
   "cell_type": "code",
   "execution_count": 10,
   "id": "7fd55e35",
   "metadata": {},
   "outputs": [],
   "source": [
    "vector_store = FAISS.from_documents(\n",
    "    documents = chunks ,\n",
    "    embedding=embedd_model\n",
    ")"
   ]
  },
  {
   "cell_type": "code",
   "execution_count": null,
   "id": "b090ee52",
   "metadata": {},
   "outputs": [],
   "source": []
  },
  {
   "cell_type": "markdown",
   "id": "f3084505",
   "metadata": {},
   "source": [
    "### Retrieval"
   ]
  },
  {
   "cell_type": "code",
   "execution_count": null,
   "id": "b068261a",
   "metadata": {},
   "outputs": [],
   "source": [
    "retriever = vector_store.as_retriever(search_type=\"similarity\" , search_kwargs={'k': 8})"
   ]
  },
  {
   "cell_type": "code",
   "execution_count": 15,
   "id": "baeb3552",
   "metadata": {},
   "outputs": [
    {
     "data": {
      "text/plain": [
       "[Document(id='ecf5e00f-3688-4e9f-b2a8-683f5b5005ac', metadata={}, page_content=\"and that was a lot i learned a lot from freud i learned a lot from rogers and i learned a lot from well from dostoevsky and nietzsche i'm going to do a course on dostoevsky and nietzsche for this peterson academy this is coming up in january oh that'll be damn i'm really looking forward to it\"),\n",
       " Document(id='2ac85f2e-8933-4796-8c1a-5c6200888b32', metadata={}, page_content='sense not to encounter a great dead friend and fail to learn no and and i mean i tried to separate the wheat from the chaff when i read you know and i read all the great clinicians all of them perhaps not those who are foremost in the pantheon and i tried to pull out what i could and that was a lot'),\n",
       " Document(id='29d46cf4-8ec6-458c-8a20-01251e82554e', metadata={}, page_content='interesting and then taken as a collective we create the world together in that way you'),\n",
       " Document(id='b7df306c-693b-4c83-af62-5d505de64904', metadata={}, page_content=\"forward to it you're weaving i mean i hadn't thought about doing them together oh that'd be fun that's a good idea well the other good idea uh there's a you feel that idea you often weave them together really masterfully because there is a there is religious in the broad sense of that word themes\"),\n",
       " Document(id='bc2e54c6-7e74-4244-a246-8917329a6fa2', metadata={}, page_content=\"of what would you describe if you if you remove the religiosity of aryosha there's a what's a good word love towards the world spirit of encouragement yes well it's it's you know one of the things i did learn perhaps from looking into the abyss to the degree that i have had to or was willing to was\")]"
      ]
     },
     "execution_count": 15,
     "metadata": {},
     "output_type": "execute_result"
    }
   ],
   "source": [
    "retriever.invoke(\"what they are talking about?\")"
   ]
  },
  {
   "cell_type": "markdown",
   "id": "d72d98d2",
   "metadata": {},
   "source": [
    "### Augemantation"
   ]
  },
  {
   "cell_type": "code",
   "execution_count": 17,
   "id": "1a3c955b",
   "metadata": {},
   "outputs": [],
   "source": [
    "llm = ChatOllama(model=\"llama3.2:latest\")"
   ]
  },
  {
   "cell_type": "code",
   "execution_count": 18,
   "id": "88dce1b5",
   "metadata": {},
   "outputs": [],
   "source": [
    "prompt = PromptTemplate(\n",
    "    template=\"\"\"\n",
    "            You are a helpful assitant.\n",
    "            Answer from provided transcript context ONLY.\n",
    "            if the context is insufficient then reply that you don't know.\n",
    "            Context is \\n\n",
    "            {context}\n",
    "            \\n\n",
    "            Question : {question}\n",
    "\"\"\",\n",
    "    input_variables=['context' , 'question']\n",
    ")"
   ]
  },
  {
   "cell_type": "code",
   "execution_count": 24,
   "id": "2180d856",
   "metadata": {},
   "outputs": [],
   "source": [
    "question = \"Did they mentioned about brothers koromozov?\"\n",
    "retrived_docs = retriever.invoke(question)"
   ]
  },
  {
   "cell_type": "code",
   "execution_count": 25,
   "id": "39ddbfd7",
   "metadata": {},
   "outputs": [],
   "source": [
    "doc_context = \"\\n\\n\".join(doc.page_content for doc in retrived_docs)"
   ]
  },
  {
   "cell_type": "code",
   "execution_count": 26,
   "id": "35403ef0",
   "metadata": {},
   "outputs": [],
   "source": [
    "final_prompt = prompt.invoke({'context':doc_context , \"question\":question})"
   ]
  },
  {
   "cell_type": "code",
   "execution_count": 27,
   "id": "a73a184a",
   "metadata": {},
   "outputs": [
    {
     "name": "stdout",
     "output_type": "stream",
     "text": [
      "No, there is no mention of Brothers Karamazov in the provided transcript.\n"
     ]
    }
   ],
   "source": [
    "answer = llm.invoke(final_prompt)\n",
    "print(answer.content)"
   ]
  },
  {
   "cell_type": "markdown",
   "id": "b4529a66",
   "metadata": {},
   "source": [
    "### Building Chains"
   ]
  },
  {
   "cell_type": "code",
   "execution_count": 30,
   "id": "f17a70ad",
   "metadata": {},
   "outputs": [],
   "source": [
    "from langchain_core.runnables import RunnableLambda , RunnablePassthrough , RunnableParallel\n",
    "from langchain_core.output_parsers import StrOutputParser"
   ]
  },
  {
   "cell_type": "code",
   "execution_count": 33,
   "id": "548a9e84",
   "metadata": {},
   "outputs": [],
   "source": [
    "def format_docs(retrived_docs):\n",
    "    doc_context = \"\\n\\n\".join(doc.page_content for doc in retrived_docs)\n",
    "    return doc_context"
   ]
  },
  {
   "cell_type": "code",
   "execution_count": 34,
   "id": "2c5ea0e2",
   "metadata": {},
   "outputs": [],
   "source": [
    "parallel_chain = RunnableParallel({\n",
    "    \"context\":retriever | RunnableLambda(format_docs),\n",
    "    \"question\":RunnablePassthrough()\n",
    "})"
   ]
  },
  {
   "cell_type": "code",
   "execution_count": 35,
   "id": "0a1ff6a1",
   "metadata": {},
   "outputs": [],
   "source": [
    "parser = StrOutputParser()\n",
    "\n",
    "main_chain = parallel_chain | prompt | llm | parser"
   ]
  },
  {
   "cell_type": "code",
   "execution_count": 37,
   "id": "e3a68381",
   "metadata": {},
   "outputs": [
    {
     "name": "stdout",
     "output_type": "stream",
     "text": [
      "Fyodor Dostoevsky is a Russian novelist, psychologist, and philosopher.\n"
     ]
    }
   ],
   "source": [
    "res = main_chain.invoke(\"Who is Fyodor Dostoevsky\")\n",
    "print(res)"
   ]
  },
  {
   "cell_type": "code",
   "execution_count": 1,
   "id": "37ba33ed",
   "metadata": {},
   "outputs": [
    {
     "name": "stdout",
     "output_type": "stream",
     "text": [
      "q8VePUwjB9Y\n",
      "Working...\n",
      "Transcript Loaded !!!\n",
      "155 chunks are created...\n",
      "Creating Vector Store...\n"
     ]
    }
   ],
   "source": [
    "from helpers import create_chunks, document_retriever, final_output, get_transcript , create_vector_store\n",
    "\n",
    "transcript = get_transcript(link=input(\"Paste video link: \"))\n",
    "# print(transcript)\n",
    "chunks = create_chunks(transcript=transcript)\n",
    "vector_store = create_vector_store(chunks)"
   ]
  },
  {
   "cell_type": "code",
   "execution_count": 6,
   "id": "1b78948a",
   "metadata": {},
   "outputs": [
    {
     "name": "stdout",
     "output_type": "stream",
     "text": [
      "Retrieving Documents...\n",
      "The speaker has mentioned Friedrich Nietzsche in relation to his writing style (aphoristic) and style of writers like Dostoevsky. They also mentioned \"Beyond Good and Evil\" as a book, specifically the first half of it. Additionally, they made a passing comment about Protestantism being compared to the \"woke mob\", but no specific books or authors were discussed in this context.\n"
     ]
    }
   ],
   "source": [
    "query = input(\"Enter your query: \")\n",
    "\n",
    "retriver = document_retriever(vector_store=vector_store)\n",
    "\n",
    "output = final_output(query = query ,retriever=retriver )\n",
    "\n",
    "print(output)"
   ]
  },
  {
   "cell_type": "code",
   "execution_count": 1,
   "id": "bd32cb9d",
   "metadata": {},
   "outputs": [
    {
     "data": {
      "text/plain": [
       "'erUfLIi9OFM'"
      ]
     },
     "execution_count": 1,
     "metadata": {},
     "output_type": "execute_result"
    }
   ],
   "source": [
    "import re\n",
    "\n",
    "def get_video_id(link):\n",
    "    # Extract video ID from YouTube link\n",
    "    match = re.search(r\"(?:v=|\\/)([0-9A-Za-z_-]{11})\", link)\n",
    "    return match.group(1) if match else None\n",
    "\n",
    "get_video_id(\"https://www.youtube.com/watch?v=erUfLIi9OFM&t=1300s\")"
   ]
  }
 ],
 "metadata": {
  "kernelspec": {
   "display_name": "genai",
   "language": "python",
   "name": "python3"
  },
  "language_info": {
   "codemirror_mode": {
    "name": "ipython",
    "version": 3
   },
   "file_extension": ".py",
   "mimetype": "text/x-python",
   "name": "python",
   "nbconvert_exporter": "python",
   "pygments_lexer": "ipython3",
   "version": "3.13.1"
  }
 },
 "nbformat": 4,
 "nbformat_minor": 5
}
